{
 "cells": [
  {
   "cell_type": "markdown",
   "metadata": {
    "slideshow": {
     "slide_type": "slide"
    }
   },
   "source": [
    "![sql](img/sql-logo.jpg)\n",
    "\n",
    "# A beginner's guide to databases, SQL, & using them with `pandas`"
   ]
  },
  {
   "cell_type": "markdown",
   "metadata": {
    "slideshow": {
     "slide_type": "slide"
    }
   },
   "source": [
    "**Scenario:** You are a data analyst for the Homeland Security, trying to create reports on the active airports world wide. The data you need to access is in a SQL database. YOu need to be able to query for the data in a database!"
   ]
  },
  {
   "cell_type": "markdown",
   "metadata": {
    "slideshow": {
     "slide_type": "slide"
    }
   },
   "source": [
    "## Learning goals:\n",
    "- Goal 1: Summarize the use case for sql in the data science skill set\n",
    "- Goal 2: Define key sql terminology\n",
    "- Goal 3: Get information about DB schema and table structure\n",
    "- Goal 4: Use basic SQL commands:\n",
    "    - Construct SQL queries\n",
    "    - Use JOIN to merge tables along logical columns\n",
    "    - Grouping Data with SQL\n",
    "- Goal 5: Query data from pandas dataframes using SQL\n",
    "- Goal 6: Convert SQL to pandas"
   ]
  },
  {
   "cell_type": "markdown",
   "metadata": {
    "slideshow": {
     "slide_type": "slide"
    }
   },
   "source": [
    "## Goal 1: Summarize\n",
    "\n",
    "To date the data we've seen has looked like [this.](https://data.austintexas.gov/Health-and-Community-Services/Austin-Animal-Center-Intakes/wter-evkm)\n",
    "\n",
    "That is how we need data to look to run analysis and build models.<br>\n",
    "But it doesn't _live_ there in it's native state."
   ]
  },
  {
   "cell_type": "markdown",
   "metadata": {
    "slideshow": {
     "slide_type": "slide"
    }
   },
   "source": [
    "[Netflix has a great article](https://medium.com/netflix-techblog/notebook-innovation-591ee3221233) describing three different data roles at their company, their different needs, and their toolsets.\n",
    "\n",
    "![netflix](img/netflix-data-roles.jpeg)\n",
    "\n",
    "Examining that graphic, SQL shows up as one of the tools of the _Data Engineer_ "
   ]
  },
  {
   "cell_type": "markdown",
   "metadata": {
    "slideshow": {
     "slide_type": "slide"
    }
   },
   "source": [
    "Data Engineers provide the essential data architecture services that make data science possible.\n",
    "\n",
    "![hierarchy](img/ai-hierachy.png)\n",
    "\n",
    "[Source: Monica Rogati’s fantastic Medium post “The AI Hierarchy of Needs”\n",
    "](https://hackernoon.com/the-ai-hierarchy-of-needs-18f111fcc007)"
   ]
  },
  {
   "cell_type": "markdown",
   "metadata": {},
   "source": [
    "## What does it mean to **Engineer Data**?\n",
    "\n",
    "Let's start with a basic scenario:<br>\n",
    "You are HR. You have *no* current database. \n",
    "How would you set it up?\n",
    "\n",
    "Data needs considerations:\n",
    "- What you want to store\n",
    "- What \"views\" you anticipate wanting in the future\n",
    "\n",
    "Structure considerations:\n",
    "- Speed of retrieval\n",
    "- How much data you are accessing\n",
    "- How much you are storing"
   ]
  },
  {
   "cell_type": "markdown",
   "metadata": {
    "slideshow": {
     "slide_type": "slide"
    }
   },
   "source": [
    "![etl](img/etl.png)\n",
    "\n",
    "[img source: Jeff Hammerbacher’s slide from UC Berkeley CS 194 course ](https://bcourses.berkeley.edu/courses/1377158/pages/cs-194-16-introduction-to-data-science-fall-2015)"
   ]
  },
  {
   "cell_type": "markdown",
   "metadata": {
    "slideshow": {
     "slide_type": "slide"
    }
   },
   "source": [
    "### What is a Relational Database? \n",
    "\n",
    "![rdb](img/relational-dbms-model.png)\n",
    "[reference for image ](https://www.studytonight.com/dbms/database-model.php)"
   ]
  },
  {
   "cell_type": "markdown",
   "metadata": {
    "slideshow": {
     "slide_type": "slide"
    }
   },
   "source": [
    "### POPULAR RDBMS\n",
    "\n",
    "- SQLite\n",
    "- MySQL\n",
    "- PostgreSql\n",
    "- Oracle DB\n",
    "- SQL Server"
   ]
  },
  {
   "cell_type": "markdown",
   "metadata": {},
   "source": [
    "***\n",
    "### SQL\n",
    "\n",
    "[History of SQL](https://www.businessnewsdaily.com/5804-what-is-sql.html)\n",
    "\n",
    "> Future users of large data banks must be protected from having to know how the data is organized in the machine (the internal representation). A prompting service which supplies such information is not a satisfactory solution. Activities of users at terminals and most application programs should remain unaffected when the internal representation of data is changed and even when some aspects of the external representation are changed. Changes in data representation will often be needed as a result of changes in query, update, and report traffic and natural growth in the types of stored information.\n",
    ".\n",
    ".\n",
    ".<br>\n",
    "<br>\n",
    "In Section 1 a relational model of data is proposed as a basis for protecting users of formatted data systems from the potentially disruptive changes in data representation caused by growth in the data bank and changes in traffic.\n",
    "\n",
    "[The original SQL paper from the 1970s.](https://www.seas.upenn.edu/~zives/03f/cis550/codd.pdf)"
   ]
  },
  {
   "cell_type": "markdown",
   "metadata": {
    "slideshow": {
     "slide_type": "slide"
    }
   },
   "source": [
    "***\n",
    "## Goal 2: Database terminology\n",
    "\n",
    "### Relational Database Schema\n",
    "\n",
    "![schema](img/MySQL_Schema_Music_Example.png)\n",
    "\n",
    "[source of image](https://database.guide/what-is-a-database-schema/)"
   ]
  },
  {
   "cell_type": "markdown",
   "metadata": {
    "slideshow": {
     "slide_type": "slide"
    }
   },
   "source": [
    "### Table columns view\n",
    "<img src=\"img/columns.png\" width=650>"
   ]
  },
  {
   "cell_type": "markdown",
   "metadata": {
    "slideshow": {
     "slide_type": "slide"
    }
   },
   "source": [
    "### Terminology\n",
    "\n",
    "- Database\n",
    "- Schema\n",
    "- Queries\n",
    "- Tables\n",
    "- Views\n",
    "- Primary Keys\n",
    "- Foreign Keys\n",
    "- Indexes\n",
    "- Functions & User Defined Functions (UDFs)"
   ]
  },
  {
   "cell_type": "markdown",
   "metadata": {
    "slideshow": {
     "slide_type": "slide"
    }
   },
   "source": [
    "***\n",
    "### SQLite\n",
    "\n",
    "<img src=\"img/SQLite-Python.jpg\" width=650>\n",
    "\n",
    "\"SQLite is a C library that provides a lightweight disk-based database that doesn’t require a separate server process and allows accessing the database using a nonstandard variant of the SQL query language. Some applications can use SQLite for internal data storage. It’s also possible to prototype an application using SQLite and then port the code to a larger database such as PostgreSQL or Oracle.\" - [sqlite documentation](https://docs.python.org/2/library/sqlite3.html)\n",
    "\n"
   ]
  },
  {
   "cell_type": "markdown",
   "metadata": {
    "slideshow": {
     "slide_type": "slide"
    }
   },
   "source": [
    "## But what about connecting to database servers?\n",
    "\n",
    "To connect to other database types there are many different libraries:\n",
    "- Oracle: [cx_Oracle](https://oracle.github.io/python-cx_Oracle/)\n",
    "- MySQL: [MySQL-python](https://github.com/farcepest/MySQLdb1)\n",
    "- PostgreSQL: [Psycopg2](http://initd.org/psycopg/docs/)\n",
    "- Microsoft SQL Server: [pymssql](http://www.pymssql.org/en/stable/)\n",
    "\n",
    "These all implement [PEP 249: DB API v2](https://www.python.org/dev/peps/pep-0249/)"
   ]
  },
  {
   "cell_type": "markdown",
   "metadata": {
    "slideshow": {
     "slide_type": "slide"
    }
   },
   "source": [
    "***\n",
    "## Goal 3: Get going with sqlite!"
   ]
  },
  {
   "cell_type": "code",
   "execution_count": 1,
   "metadata": {
    "slideshow": {
     "slide_type": "fragment"
    }
   },
   "outputs": [],
   "source": [
    "import sqlite3"
   ]
  },
  {
   "cell_type": "markdown",
   "metadata": {
    "slideshow": {
     "slide_type": "slide"
    }
   },
   "source": [
    "#### Load a DB object with `connect` and `cursor`"
   ]
  },
  {
   "cell_type": "code",
   "execution_count": 2,
   "metadata": {
    "slideshow": {
     "slide_type": "fragment"
    }
   },
   "outputs": [],
   "source": [
    "con = sqlite3.connect('flights.db')\n",
    "cursor = con.cursor()"
   ]
  },
  {
   "cell_type": "markdown",
   "metadata": {
    "slideshow": {
     "slide_type": "slide"
    }
   },
   "source": [
    "#### Use sqlite_master to find all the tables in the schema\n",
    "Get the schema of a database from a db in sqlite"
   ]
  },
  {
   "cell_type": "code",
   "execution_count": 3,
   "metadata": {},
   "outputs": [
    {
     "name": "stdout",
     "output_type": "stream",
     "text": [
      "[('airports',), ('airlines',), ('routes',)]\n"
     ]
    }
   ],
   "source": [
    "cursor.execute(\"SELECT name FROM sqlite_master WHERE type='table';\")\n",
    "print(cursor.fetchall())"
   ]
  },
  {
   "cell_type": "code",
   "execution_count": 4,
   "metadata": {},
   "outputs": [
    {
     "data": {
      "text/plain": [
       "(('name', None, None, None, None, None, None),)"
      ]
     },
     "execution_count": 4,
     "metadata": {},
     "output_type": "execute_result"
    }
   ],
   "source": [
    "cursor.description"
   ]
  },
  {
   "cell_type": "code",
   "execution_count": 5,
   "metadata": {},
   "outputs": [
    {
     "name": "stdout",
     "output_type": "stream",
     "text": [
      "[('airports', 'table'), ('ix_airports_index', 'index'), ('airlines', 'table'), ('ix_airlines_index', 'index'), ('routes', 'table'), ('ix_routes_index', 'index')]\n"
     ]
    }
   ],
   "source": [
    "cursor.execute(\"SELECT name, type FROM sqlite_master;\")\n",
    "print(cursor.fetchall())"
   ]
  },
  {
   "cell_type": "code",
   "execution_count": null,
   "metadata": {},
   "outputs": [],
   "source": [
    "cursor.execute(\"SELECT * FROM sqlite_master;\")\n",
    "results = cursor.fetchall()\n",
    "for res in results:\n",
    "    print(res)"
   ]
  },
  {
   "cell_type": "markdown",
   "metadata": {
    "slideshow": {
     "slide_type": "slide"
    }
   },
   "source": [
    "#### Get information about one table\n",
    "\n",
    "**A note about** `execute`<br>\n",
    "Each time you use it, you reset the value of cursor"
   ]
  },
  {
   "cell_type": "code",
   "execution_count": null,
   "metadata": {},
   "outputs": [],
   "source": [
    "cursor.execute(\"SELECT * FROM airports as a\").fetchone()"
   ]
  },
  {
   "cell_type": "code",
   "execution_count": null,
   "metadata": {},
   "outputs": [],
   "source": [
    "cursor.fetchone()"
   ]
  },
  {
   "cell_type": "code",
   "execution_count": null,
   "metadata": {},
   "outputs": [],
   "source": [
    "cursor.fetchmany(4)"
   ]
  },
  {
   "cell_type": "markdown",
   "metadata": {
    "slideshow": {
     "slide_type": "slide"
    }
   },
   "source": [
    "#### Use description"
   ]
  },
  {
   "cell_type": "code",
   "execution_count": null,
   "metadata": {
    "slideshow": {
     "slide_type": "fragment"
    }
   },
   "outputs": [],
   "source": [
    "cursor.description"
   ]
  },
  {
   "cell_type": "markdown",
   "metadata": {
    "slideshow": {
     "slide_type": "slide"
    }
   },
   "source": [
    "#### Or use `Pragma`\n",
    "`Pragma` tool [link here](https://www.sqlite.org/pragma.html#pragma_table_info)\n",
    "\n",
    "**output**<br>\n",
    "`(column id, column name, data type, whether or not the column can be NULL, and the default value for the column)`"
   ]
  },
  {
   "cell_type": "code",
   "execution_count": null,
   "metadata": {
    "slideshow": {
     "slide_type": "slide"
    }
   },
   "outputs": [],
   "source": [
    "cursor.execute(\"PRAGMA table_info(airports)\")\n",
    "info = cursor.fetchall()\n",
    "print(*info, sep = \"\\n\") "
   ]
  },
  {
   "cell_type": "markdown",
   "metadata": {
    "slideshow": {
     "slide_type": "slide"
    }
   },
   "source": [
    "#### Making fetch happen\n",
    "\n",
    "`.fetchall()` is how you get the query results out of the object.\n",
    "\n",
    "You can also `.fetchone()` or `.fetchmany()`"
   ]
  },
  {
   "cell_type": "markdown",
   "metadata": {
    "slideshow": {
     "slide_type": "slide"
    }
   },
   "source": [
    "**Task:** Get the descriptive data for airlines and routes tables"
   ]
  },
  {
   "cell_type": "code",
   "execution_count": null,
   "metadata": {},
   "outputs": [],
   "source": [
    "cursor.execute(\"PRAGMA table_info(airlines)\")\n",
    "info = cursor.fetchall()\n",
    "print(*info, sep = \"\\n\")"
   ]
  },
  {
   "cell_type": "code",
   "execution_count": null,
   "metadata": {},
   "outputs": [],
   "source": [
    "cursor.execute(\"PRAGMA table_info(routes)\")\n",
    "info = cursor.fetchall()\n",
    "print(*info, sep = \"\\n\")"
   ]
  },
  {
   "cell_type": "markdown",
   "metadata": {
    "slideshow": {
     "slide_type": "slide"
    }
   },
   "source": [
    "***\n",
    "## Goal 4: Use basic SQL commands \n",
    "- Construct SQL queries\n",
    "- Use JOIN to merge tables along logical columns\n",
    "- Grouping Data with SQL"
   ]
  },
  {
   "cell_type": "markdown",
   "metadata": {
    "slideshow": {
     "slide_type": "slide"
    }
   },
   "source": [
    "### Construct SQL queries"
   ]
  },
  {
   "cell_type": "markdown",
   "metadata": {
    "slideshow": {
     "slide_type": "fragment"
    }
   },
   "source": [
    "**Select**"
   ]
  },
  {
   "cell_type": "markdown",
   "metadata": {
    "slideshow": {
     "slide_type": "fragment"
    }
   },
   "source": [
    "**From**"
   ]
  },
  {
   "cell_type": "markdown",
   "metadata": {
    "slideshow": {
     "slide_type": "fragment"
    }
   },
   "source": [
    "**Where**"
   ]
  },
  {
   "cell_type": "markdown",
   "metadata": {
    "slideshow": {
     "slide_type": "fragment"
    }
   },
   "source": [
    "**Order by**"
   ]
  },
  {
   "cell_type": "markdown",
   "metadata": {
    "slideshow": {
     "slide_type": "fragment"
    }
   },
   "source": [
    "**Limit**"
   ]
  },
  {
   "cell_type": "markdown",
   "metadata": {
    "slideshow": {
     "slide_type": "slide"
    }
   },
   "source": [
    "#### Options for each:"
   ]
  },
  {
   "cell_type": "markdown",
   "metadata": {
    "slideshow": {
     "slide_type": "fragment"
    }
   },
   "source": [
    "**Select**:  `distinct`, using `as` to rename columns, single number aggregates"
   ]
  },
  {
   "cell_type": "markdown",
   "metadata": {
    "slideshow": {
     "slide_type": "fragment"
    }
   },
   "source": [
    "**From:** also uses aliasing with `as`"
   ]
  },
  {
   "cell_type": "markdown",
   "metadata": {
    "slideshow": {
     "slide_type": "fragment"
    }
   },
   "source": [
    "**Where**: equals is only one `=`, `between`, `in`, wildcards `%`, `AND`, `OR`, `NOT`"
   ]
  },
  {
   "cell_type": "markdown",
   "metadata": {
    "slideshow": {
     "slide_type": "fragment"
    }
   },
   "source": [
    "**Order by**: `asc` and `desc`"
   ]
  },
  {
   "cell_type": "markdown",
   "metadata": {
    "slideshow": {
     "slide_type": "fragment"
    }
   },
   "source": [
    "**Limit**:  #"
   ]
  },
  {
   "cell_type": "markdown",
   "metadata": {
    "slideshow": {
     "slide_type": "slide"
    }
   },
   "source": [
    "**Task**: \n",
    "- Select only active airlines in the UK from the airlines table\n",
    "- Select the unique list of countries with airports"
   ]
  },
  {
   "cell_type": "code",
   "execution_count": 6,
   "metadata": {},
   "outputs": [
    {
     "data": {
      "text/plain": [
       "[('Astraeus',),\n",
       " ('Air Southwest',),\n",
       " ('Aurigny Air Services',),\n",
       " ('Air Wales',),\n",
       " ('AD Aviation',)]"
      ]
     },
     "execution_count": 6,
     "metadata": {},
     "output_type": "execute_result"
    }
   ],
   "source": [
    "cursor.execute(\"\"\"\n",
    "SELECT name\n",
    "FROM airlines\n",
    "WHERE active = 'Y'\n",
    "  AND country = 'United Kingdom';\n",
    "\"\"\")\n",
    "cursor.fetchmany(5)"
   ]
  },
  {
   "cell_type": "code",
   "execution_count": 7,
   "metadata": {},
   "outputs": [
    {
     "data": {
      "text/plain": [
       "[('Astraeus',),\n",
       " ('Air Southwest',),\n",
       " ('Aurigny Air Services',),\n",
       " ('Air Wales',),\n",
       " ('AD Aviation',)]"
      ]
     },
     "execution_count": 7,
     "metadata": {},
     "output_type": "execute_result"
    }
   ],
   "source": [
    "cursor.execute(\"\"\"\n",
    "SELECT name\n",
    "FROM airlines\n",
    "WHERE active = 'Y'\n",
    "  AND country = 'United Kingdom'\n",
    "LIMIT 5;\n",
    "\"\"\")\n",
    "cursor.fetchall()"
   ]
  },
  {
   "cell_type": "markdown",
   "metadata": {
    "slideshow": {
     "slide_type": "slide"
    }
   },
   "source": [
    "### SQL Joins"
   ]
  },
  {
   "cell_type": "markdown",
   "metadata": {
    "slideshow": {
     "slide_type": "fragment"
    }
   },
   "source": [
    "SQL joins can be used to both **add** data to a table and **remove** data from a table. "
   ]
  },
  {
   "cell_type": "markdown",
   "metadata": {
    "slideshow": {
     "slide_type": "fragment"
    }
   },
   "source": [
    "<img src=\"img/venn.png\" width=550>"
   ]
  },
  {
   "cell_type": "markdown",
   "metadata": {
    "slideshow": {
     "slide_type": "slide"
    }
   },
   "source": [
    "**Task** Write a query that will join the latitude and longitude data from the airports table to the information on the routes table"
   ]
  },
  {
   "cell_type": "code",
   "execution_count": 8,
   "metadata": {
    "slideshow": {
     "slide_type": "skip"
    }
   },
   "outputs": [
    {
     "name": "stdout",
     "output_type": "stream",
     "text": [
      "('index', None, None, None, None, None, None)\n",
      "('id', None, None, None, None, None, None)\n",
      "('name', None, None, None, None, None, None)\n",
      "('city', None, None, None, None, None, None)\n",
      "('country', None, None, None, None, None, None)\n",
      "('code', None, None, None, None, None, None)\n",
      "('icao', None, None, None, None, None, None)\n",
      "('latitude', None, None, None, None, None, None)\n",
      "('longitude', None, None, None, None, None, None)\n",
      "('altitude', None, None, None, None, None, None)\n",
      "('offset', None, None, None, None, None, None)\n",
      "('dst', None, None, None, None, None, None)\n",
      "('timezone', None, None, None, None, None, None)\n"
     ]
    }
   ],
   "source": [
    "cursor.execute(\"\"\"\n",
    "SELECT *\n",
    "FROM airports\n",
    "\"\"\")\n",
    "print(*cursor.description, sep='\\n')"
   ]
  },
  {
   "cell_type": "code",
   "execution_count": 11,
   "metadata": {},
   "outputs": [
    {
     "data": {
      "text/plain": [
       "(0,\n",
       " '1',\n",
       " 'Goroka',\n",
       " 'Goroka',\n",
       " 'Papua New Guinea',\n",
       " 'GKA',\n",
       " 'AYGA',\n",
       " '-6.081689',\n",
       " '145.391881',\n",
       " '5282',\n",
       " '10',\n",
       " 'U',\n",
       " 'Pacific/Port_Moresby')"
      ]
     },
     "execution_count": 11,
     "metadata": {},
     "output_type": "execute_result"
    }
   ],
   "source": [
    "cursor.execute(\"\"\"\n",
    "SELECT *\n",
    "FROM airports\n",
    "\"\"\")\n",
    "cursor.fetchone()"
   ]
  },
  {
   "cell_type": "code",
   "execution_count": 9,
   "metadata": {},
   "outputs": [
    {
     "name": "stdout",
     "output_type": "stream",
     "text": [
      "('index', None, None, None, None, None, None)\n",
      "('airline', None, None, None, None, None, None)\n",
      "('airline_id', None, None, None, None, None, None)\n",
      "('source', None, None, None, None, None, None)\n",
      "('source_id', None, None, None, None, None, None)\n",
      "('dest', None, None, None, None, None, None)\n",
      "('dest_id', None, None, None, None, None, None)\n",
      "('codeshare', None, None, None, None, None, None)\n",
      "('stops', None, None, None, None, None, None)\n",
      "('equipment', None, None, None, None, None, None)\n"
     ]
    }
   ],
   "source": [
    "cursor.execute(\"\"\"\n",
    "SELECT *\n",
    "FROM routes\n",
    "\"\"\")\n",
    "print(*cursor.description, sep='\\n')"
   ]
  },
  {
   "cell_type": "code",
   "execution_count": 10,
   "metadata": {},
   "outputs": [
    {
     "data": {
      "text/plain": [
       "(0, '2B', '410', 'AER', '2965', 'KZN', '2990', None, '0', 'CR2')"
      ]
     },
     "execution_count": 10,
     "metadata": {},
     "output_type": "execute_result"
    }
   ],
   "source": [
    "cursor.execute(\"\"\"\n",
    "SELECT *\n",
    "FROM routes\n",
    "\"\"\")\n",
    "cursor.fetchone()"
   ]
  },
  {
   "cell_type": "code",
   "execution_count": 18,
   "metadata": {},
   "outputs": [],
   "source": [
    "import pandas as pd"
   ]
  },
  {
   "cell_type": "code",
   "execution_count": 24,
   "metadata": {},
   "outputs": [
    {
     "data": {
      "text/html": [
       "<div>\n",
       "<style scoped>\n",
       "    .dataframe tbody tr th:only-of-type {\n",
       "        vertical-align: middle;\n",
       "    }\n",
       "\n",
       "    .dataframe tbody tr th {\n",
       "        vertical-align: top;\n",
       "    }\n",
       "\n",
       "    .dataframe thead th {\n",
       "        text-align: right;\n",
       "    }\n",
       "</style>\n",
       "<table border=\"1\" class=\"dataframe\">\n",
       "  <thead>\n",
       "    <tr style=\"text-align: right;\">\n",
       "      <th></th>\n",
       "      <th>airline</th>\n",
       "      <th>airline_id</th>\n",
       "      <th>source</th>\n",
       "      <th>source_id</th>\n",
       "      <th>dest</th>\n",
       "      <th>dest_id</th>\n",
       "      <th>codeshare</th>\n",
       "      <th>stops</th>\n",
       "      <th>equipment</th>\n",
       "      <th>source_lat</th>\n",
       "      <th>source_lon</th>\n",
       "      <th>dest_lat</th>\n",
       "      <th>dest_lon</th>\n",
       "    </tr>\n",
       "  </thead>\n",
       "  <tbody>\n",
       "    <tr>\n",
       "      <th>0</th>\n",
       "      <td>2B</td>\n",
       "      <td>410</td>\n",
       "      <td>AER</td>\n",
       "      <td>2965</td>\n",
       "      <td>KZN</td>\n",
       "      <td>2990</td>\n",
       "      <td>None</td>\n",
       "      <td>0</td>\n",
       "      <td>CR2</td>\n",
       "      <td>43.449928</td>\n",
       "      <td>39.956589</td>\n",
       "      <td>55.606186</td>\n",
       "      <td>49.278728</td>\n",
       "    </tr>\n",
       "    <tr>\n",
       "      <th>1</th>\n",
       "      <td>2B</td>\n",
       "      <td>410</td>\n",
       "      <td>ASF</td>\n",
       "      <td>2966</td>\n",
       "      <td>KZN</td>\n",
       "      <td>2990</td>\n",
       "      <td>None</td>\n",
       "      <td>0</td>\n",
       "      <td>CR2</td>\n",
       "      <td>46.283333</td>\n",
       "      <td>48.006278</td>\n",
       "      <td>55.606186</td>\n",
       "      <td>49.278728</td>\n",
       "    </tr>\n",
       "    <tr>\n",
       "      <th>2</th>\n",
       "      <td>2B</td>\n",
       "      <td>410</td>\n",
       "      <td>ASF</td>\n",
       "      <td>2966</td>\n",
       "      <td>MRV</td>\n",
       "      <td>2962</td>\n",
       "      <td>None</td>\n",
       "      <td>0</td>\n",
       "      <td>CR2</td>\n",
       "      <td>46.283333</td>\n",
       "      <td>48.006278</td>\n",
       "      <td>44.225072</td>\n",
       "      <td>43.081889</td>\n",
       "    </tr>\n",
       "    <tr>\n",
       "      <th>3</th>\n",
       "      <td>2B</td>\n",
       "      <td>410</td>\n",
       "      <td>CEK</td>\n",
       "      <td>2968</td>\n",
       "      <td>KZN</td>\n",
       "      <td>2990</td>\n",
       "      <td>None</td>\n",
       "      <td>0</td>\n",
       "      <td>CR2</td>\n",
       "      <td>55.305836</td>\n",
       "      <td>61.503333</td>\n",
       "      <td>55.606186</td>\n",
       "      <td>49.278728</td>\n",
       "    </tr>\n",
       "    <tr>\n",
       "      <th>4</th>\n",
       "      <td>2B</td>\n",
       "      <td>410</td>\n",
       "      <td>CEK</td>\n",
       "      <td>2968</td>\n",
       "      <td>OVB</td>\n",
       "      <td>4078</td>\n",
       "      <td>None</td>\n",
       "      <td>0</td>\n",
       "      <td>CR2</td>\n",
       "      <td>55.305836</td>\n",
       "      <td>61.503333</td>\n",
       "      <td>55.012622</td>\n",
       "      <td>82.650656</td>\n",
       "    </tr>\n",
       "    <tr>\n",
       "      <th>5</th>\n",
       "      <td>2B</td>\n",
       "      <td>410</td>\n",
       "      <td>DME</td>\n",
       "      <td>4029</td>\n",
       "      <td>KZN</td>\n",
       "      <td>2990</td>\n",
       "      <td>None</td>\n",
       "      <td>0</td>\n",
       "      <td>CR2</td>\n",
       "      <td>55.408611</td>\n",
       "      <td>37.906111</td>\n",
       "      <td>55.606186</td>\n",
       "      <td>49.278728</td>\n",
       "    </tr>\n",
       "    <tr>\n",
       "      <th>6</th>\n",
       "      <td>2B</td>\n",
       "      <td>410</td>\n",
       "      <td>DME</td>\n",
       "      <td>4029</td>\n",
       "      <td>NBC</td>\n",
       "      <td>6969</td>\n",
       "      <td>None</td>\n",
       "      <td>0</td>\n",
       "      <td>CR2</td>\n",
       "      <td>55.408611</td>\n",
       "      <td>37.906111</td>\n",
       "      <td>55.34</td>\n",
       "      <td>52.06</td>\n",
       "    </tr>\n",
       "    <tr>\n",
       "      <th>7</th>\n",
       "      <td>2B</td>\n",
       "      <td>410</td>\n",
       "      <td>DME</td>\n",
       "      <td>4029</td>\n",
       "      <td>UUA</td>\n",
       "      <td>6160</td>\n",
       "      <td>None</td>\n",
       "      <td>0</td>\n",
       "      <td>CR2</td>\n",
       "      <td>55.408611</td>\n",
       "      <td>37.906111</td>\n",
       "      <td>54.64</td>\n",
       "      <td>52.8017</td>\n",
       "    </tr>\n",
       "    <tr>\n",
       "      <th>8</th>\n",
       "      <td>2B</td>\n",
       "      <td>410</td>\n",
       "      <td>EGO</td>\n",
       "      <td>6156</td>\n",
       "      <td>KGD</td>\n",
       "      <td>2952</td>\n",
       "      <td>None</td>\n",
       "      <td>0</td>\n",
       "      <td>CR2</td>\n",
       "      <td>50.6438</td>\n",
       "      <td>36.5901</td>\n",
       "      <td>54.89005</td>\n",
       "      <td>20.592633</td>\n",
       "    </tr>\n",
       "    <tr>\n",
       "      <th>9</th>\n",
       "      <td>2B</td>\n",
       "      <td>410</td>\n",
       "      <td>EGO</td>\n",
       "      <td>6156</td>\n",
       "      <td>KZN</td>\n",
       "      <td>2990</td>\n",
       "      <td>None</td>\n",
       "      <td>0</td>\n",
       "      <td>CR2</td>\n",
       "      <td>50.6438</td>\n",
       "      <td>36.5901</td>\n",
       "      <td>55.606186</td>\n",
       "      <td>49.278728</td>\n",
       "    </tr>\n",
       "    <tr>\n",
       "      <th>10</th>\n",
       "      <td>2B</td>\n",
       "      <td>410</td>\n",
       "      <td>GYD</td>\n",
       "      <td>2922</td>\n",
       "      <td>NBC</td>\n",
       "      <td>6969</td>\n",
       "      <td>None</td>\n",
       "      <td>0</td>\n",
       "      <td>CR2</td>\n",
       "      <td>40.4675</td>\n",
       "      <td>50.046667</td>\n",
       "      <td>55.34</td>\n",
       "      <td>52.06</td>\n",
       "    </tr>\n",
       "    <tr>\n",
       "      <th>11</th>\n",
       "      <td>2B</td>\n",
       "      <td>410</td>\n",
       "      <td>KGD</td>\n",
       "      <td>2952</td>\n",
       "      <td>EGO</td>\n",
       "      <td>6156</td>\n",
       "      <td>None</td>\n",
       "      <td>0</td>\n",
       "      <td>CR2</td>\n",
       "      <td>54.89005</td>\n",
       "      <td>20.592633</td>\n",
       "      <td>50.6438</td>\n",
       "      <td>36.5901</td>\n",
       "    </tr>\n",
       "    <tr>\n",
       "      <th>12</th>\n",
       "      <td>2B</td>\n",
       "      <td>410</td>\n",
       "      <td>KZN</td>\n",
       "      <td>2990</td>\n",
       "      <td>AER</td>\n",
       "      <td>2965</td>\n",
       "      <td>None</td>\n",
       "      <td>0</td>\n",
       "      <td>CR2</td>\n",
       "      <td>55.606186</td>\n",
       "      <td>49.278728</td>\n",
       "      <td>43.449928</td>\n",
       "      <td>39.956589</td>\n",
       "    </tr>\n",
       "    <tr>\n",
       "      <th>13</th>\n",
       "      <td>2B</td>\n",
       "      <td>410</td>\n",
       "      <td>KZN</td>\n",
       "      <td>2990</td>\n",
       "      <td>ASF</td>\n",
       "      <td>2966</td>\n",
       "      <td>None</td>\n",
       "      <td>0</td>\n",
       "      <td>CR2</td>\n",
       "      <td>55.606186</td>\n",
       "      <td>49.278728</td>\n",
       "      <td>46.283333</td>\n",
       "      <td>48.006278</td>\n",
       "    </tr>\n",
       "    <tr>\n",
       "      <th>14</th>\n",
       "      <td>2B</td>\n",
       "      <td>410</td>\n",
       "      <td>KZN</td>\n",
       "      <td>2990</td>\n",
       "      <td>CEK</td>\n",
       "      <td>2968</td>\n",
       "      <td>None</td>\n",
       "      <td>0</td>\n",
       "      <td>CR2</td>\n",
       "      <td>55.606186</td>\n",
       "      <td>49.278728</td>\n",
       "      <td>55.305836</td>\n",
       "      <td>61.503333</td>\n",
       "    </tr>\n",
       "    <tr>\n",
       "      <th>15</th>\n",
       "      <td>2B</td>\n",
       "      <td>410</td>\n",
       "      <td>KZN</td>\n",
       "      <td>2990</td>\n",
       "      <td>DME</td>\n",
       "      <td>4029</td>\n",
       "      <td>None</td>\n",
       "      <td>0</td>\n",
       "      <td>CR2</td>\n",
       "      <td>55.606186</td>\n",
       "      <td>49.278728</td>\n",
       "      <td>55.408611</td>\n",
       "      <td>37.906111</td>\n",
       "    </tr>\n",
       "    <tr>\n",
       "      <th>16</th>\n",
       "      <td>2B</td>\n",
       "      <td>410</td>\n",
       "      <td>KZN</td>\n",
       "      <td>2990</td>\n",
       "      <td>EGO</td>\n",
       "      <td>6156</td>\n",
       "      <td>None</td>\n",
       "      <td>0</td>\n",
       "      <td>CR2</td>\n",
       "      <td>55.606186</td>\n",
       "      <td>49.278728</td>\n",
       "      <td>50.6438</td>\n",
       "      <td>36.5901</td>\n",
       "    </tr>\n",
       "    <tr>\n",
       "      <th>17</th>\n",
       "      <td>2B</td>\n",
       "      <td>410</td>\n",
       "      <td>KZN</td>\n",
       "      <td>2990</td>\n",
       "      <td>LED</td>\n",
       "      <td>2948</td>\n",
       "      <td>None</td>\n",
       "      <td>0</td>\n",
       "      <td>CR2</td>\n",
       "      <td>55.606186</td>\n",
       "      <td>49.278728</td>\n",
       "      <td>59.800292</td>\n",
       "      <td>30.262503</td>\n",
       "    </tr>\n",
       "    <tr>\n",
       "      <th>18</th>\n",
       "      <td>2B</td>\n",
       "      <td>410</td>\n",
       "      <td>KZN</td>\n",
       "      <td>2990</td>\n",
       "      <td>SVX</td>\n",
       "      <td>2975</td>\n",
       "      <td>None</td>\n",
       "      <td>0</td>\n",
       "      <td>CR2</td>\n",
       "      <td>55.606186</td>\n",
       "      <td>49.278728</td>\n",
       "      <td>56.743108</td>\n",
       "      <td>60.802728</td>\n",
       "    </tr>\n",
       "    <tr>\n",
       "      <th>19</th>\n",
       "      <td>2B</td>\n",
       "      <td>410</td>\n",
       "      <td>LED</td>\n",
       "      <td>2948</td>\n",
       "      <td>KZN</td>\n",
       "      <td>2990</td>\n",
       "      <td>None</td>\n",
       "      <td>0</td>\n",
       "      <td>CR2</td>\n",
       "      <td>59.800292</td>\n",
       "      <td>30.262503</td>\n",
       "      <td>55.606186</td>\n",
       "      <td>49.278728</td>\n",
       "    </tr>\n",
       "    <tr>\n",
       "      <th>20</th>\n",
       "      <td>2B</td>\n",
       "      <td>410</td>\n",
       "      <td>LED</td>\n",
       "      <td>2948</td>\n",
       "      <td>NBC</td>\n",
       "      <td>6969</td>\n",
       "      <td>None</td>\n",
       "      <td>0</td>\n",
       "      <td>CR2</td>\n",
       "      <td>59.800292</td>\n",
       "      <td>30.262503</td>\n",
       "      <td>55.34</td>\n",
       "      <td>52.06</td>\n",
       "    </tr>\n",
       "    <tr>\n",
       "      <th>21</th>\n",
       "      <td>2B</td>\n",
       "      <td>410</td>\n",
       "      <td>LED</td>\n",
       "      <td>2948</td>\n",
       "      <td>UUA</td>\n",
       "      <td>6160</td>\n",
       "      <td>None</td>\n",
       "      <td>0</td>\n",
       "      <td>CR2</td>\n",
       "      <td>59.800292</td>\n",
       "      <td>30.262503</td>\n",
       "      <td>54.64</td>\n",
       "      <td>52.8017</td>\n",
       "    </tr>\n",
       "    <tr>\n",
       "      <th>22</th>\n",
       "      <td>2B</td>\n",
       "      <td>410</td>\n",
       "      <td>MRV</td>\n",
       "      <td>2962</td>\n",
       "      <td>ASF</td>\n",
       "      <td>2966</td>\n",
       "      <td>None</td>\n",
       "      <td>0</td>\n",
       "      <td>CR2</td>\n",
       "      <td>44.225072</td>\n",
       "      <td>43.081889</td>\n",
       "      <td>46.283333</td>\n",
       "      <td>48.006278</td>\n",
       "    </tr>\n",
       "    <tr>\n",
       "      <th>23</th>\n",
       "      <td>2B</td>\n",
       "      <td>410</td>\n",
       "      <td>NBC</td>\n",
       "      <td>6969</td>\n",
       "      <td>DME</td>\n",
       "      <td>4029</td>\n",
       "      <td>None</td>\n",
       "      <td>0</td>\n",
       "      <td>CR2</td>\n",
       "      <td>55.34</td>\n",
       "      <td>52.06</td>\n",
       "      <td>55.408611</td>\n",
       "      <td>37.906111</td>\n",
       "    </tr>\n",
       "    <tr>\n",
       "      <th>24</th>\n",
       "      <td>2B</td>\n",
       "      <td>410</td>\n",
       "      <td>NBC</td>\n",
       "      <td>6969</td>\n",
       "      <td>GYD</td>\n",
       "      <td>2922</td>\n",
       "      <td>None</td>\n",
       "      <td>0</td>\n",
       "      <td>CR2</td>\n",
       "      <td>55.34</td>\n",
       "      <td>52.06</td>\n",
       "      <td>40.4675</td>\n",
       "      <td>50.046667</td>\n",
       "    </tr>\n",
       "    <tr>\n",
       "      <th>25</th>\n",
       "      <td>2B</td>\n",
       "      <td>410</td>\n",
       "      <td>NBC</td>\n",
       "      <td>6969</td>\n",
       "      <td>LED</td>\n",
       "      <td>2948</td>\n",
       "      <td>None</td>\n",
       "      <td>0</td>\n",
       "      <td>CR2</td>\n",
       "      <td>55.34</td>\n",
       "      <td>52.06</td>\n",
       "      <td>59.800292</td>\n",
       "      <td>30.262503</td>\n",
       "    </tr>\n",
       "    <tr>\n",
       "      <th>26</th>\n",
       "      <td>2B</td>\n",
       "      <td>410</td>\n",
       "      <td>NBC</td>\n",
       "      <td>6969</td>\n",
       "      <td>SVX</td>\n",
       "      <td>2975</td>\n",
       "      <td>None</td>\n",
       "      <td>0</td>\n",
       "      <td>CR2</td>\n",
       "      <td>55.34</td>\n",
       "      <td>52.06</td>\n",
       "      <td>56.743108</td>\n",
       "      <td>60.802728</td>\n",
       "    </tr>\n",
       "    <tr>\n",
       "      <th>27</th>\n",
       "      <td>2B</td>\n",
       "      <td>410</td>\n",
       "      <td>NJC</td>\n",
       "      <td>2972</td>\n",
       "      <td>SVX</td>\n",
       "      <td>2975</td>\n",
       "      <td>None</td>\n",
       "      <td>0</td>\n",
       "      <td>CR2</td>\n",
       "      <td>60.949272</td>\n",
       "      <td>76.483617</td>\n",
       "      <td>56.743108</td>\n",
       "      <td>60.802728</td>\n",
       "    </tr>\n",
       "    <tr>\n",
       "      <th>28</th>\n",
       "      <td>2B</td>\n",
       "      <td>410</td>\n",
       "      <td>NJC</td>\n",
       "      <td>2972</td>\n",
       "      <td>UUA</td>\n",
       "      <td>6160</td>\n",
       "      <td>None</td>\n",
       "      <td>0</td>\n",
       "      <td>CR2</td>\n",
       "      <td>60.949272</td>\n",
       "      <td>76.483617</td>\n",
       "      <td>54.64</td>\n",
       "      <td>52.8017</td>\n",
       "    </tr>\n",
       "    <tr>\n",
       "      <th>29</th>\n",
       "      <td>2B</td>\n",
       "      <td>410</td>\n",
       "      <td>NUX</td>\n",
       "      <td>4364</td>\n",
       "      <td>SVX</td>\n",
       "      <td>2975</td>\n",
       "      <td>None</td>\n",
       "      <td>0</td>\n",
       "      <td>CR2</td>\n",
       "      <td>66.041811</td>\n",
       "      <td>76.313938</td>\n",
       "      <td>56.743108</td>\n",
       "      <td>60.802728</td>\n",
       "    </tr>\n",
       "    <tr>\n",
       "      <th>...</th>\n",
       "      <td>...</td>\n",
       "      <td>...</td>\n",
       "      <td>...</td>\n",
       "      <td>...</td>\n",
       "      <td>...</td>\n",
       "      <td>...</td>\n",
       "      <td>...</td>\n",
       "      <td>...</td>\n",
       "      <td>...</td>\n",
       "      <td>...</td>\n",
       "      <td>...</td>\n",
       "      <td>...</td>\n",
       "      <td>...</td>\n",
       "    </tr>\n",
       "    <tr>\n",
       "      <th>67172</th>\n",
       "      <td>ZL</td>\n",
       "      <td>4178</td>\n",
       "      <td>SYD</td>\n",
       "      <td>3361</td>\n",
       "      <td>ABX</td>\n",
       "      <td>3333</td>\n",
       "      <td>None</td>\n",
       "      <td>0</td>\n",
       "      <td>SF3</td>\n",
       "      <td>-33.946111</td>\n",
       "      <td>151.177222</td>\n",
       "      <td>-36.067778</td>\n",
       "      <td>146.958056</td>\n",
       "    </tr>\n",
       "    <tr>\n",
       "      <th>67173</th>\n",
       "      <td>ZL</td>\n",
       "      <td>4178</td>\n",
       "      <td>SYD</td>\n",
       "      <td>3361</td>\n",
       "      <td>ARM</td>\n",
       "      <td>4062</td>\n",
       "      <td>None</td>\n",
       "      <td>0</td>\n",
       "      <td>SF3</td>\n",
       "      <td>-33.946111</td>\n",
       "      <td>151.177222</td>\n",
       "      <td>-30.528056</td>\n",
       "      <td>151.617222</td>\n",
       "    </tr>\n",
       "    <tr>\n",
       "      <th>67174</th>\n",
       "      <td>ZL</td>\n",
       "      <td>4178</td>\n",
       "      <td>SYD</td>\n",
       "      <td>3361</td>\n",
       "      <td>BHQ</td>\n",
       "      <td>6241</td>\n",
       "      <td>None</td>\n",
       "      <td>0</td>\n",
       "      <td>SF3</td>\n",
       "      <td>-33.946111</td>\n",
       "      <td>151.177222</td>\n",
       "      <td>-32.0014</td>\n",
       "      <td>141.472</td>\n",
       "    </tr>\n",
       "    <tr>\n",
       "      <th>67175</th>\n",
       "      <td>ZL</td>\n",
       "      <td>4178</td>\n",
       "      <td>SYD</td>\n",
       "      <td>3361</td>\n",
       "      <td>BHS</td>\n",
       "      <td>6249</td>\n",
       "      <td>None</td>\n",
       "      <td>0</td>\n",
       "      <td>SF3</td>\n",
       "      <td>-33.946111</td>\n",
       "      <td>151.177222</td>\n",
       "      <td>-33.4094</td>\n",
       "      <td>149.652</td>\n",
       "    </tr>\n",
       "    <tr>\n",
       "      <th>67176</th>\n",
       "      <td>ZL</td>\n",
       "      <td>4178</td>\n",
       "      <td>SYD</td>\n",
       "      <td>3361</td>\n",
       "      <td>BNK</td>\n",
       "      <td>4291</td>\n",
       "      <td>None</td>\n",
       "      <td>0</td>\n",
       "      <td>SF3</td>\n",
       "      <td>-33.946111</td>\n",
       "      <td>151.177222</td>\n",
       "      <td>-28.833889</td>\n",
       "      <td>153.5625</td>\n",
       "    </tr>\n",
       "    <tr>\n",
       "      <th>67177</th>\n",
       "      <td>ZL</td>\n",
       "      <td>4178</td>\n",
       "      <td>SYD</td>\n",
       "      <td>3361</td>\n",
       "      <td>DBO</td>\n",
       "      <td>3358</td>\n",
       "      <td>None</td>\n",
       "      <td>0</td>\n",
       "      <td>SF3</td>\n",
       "      <td>-33.946111</td>\n",
       "      <td>151.177222</td>\n",
       "      <td>-32.216667</td>\n",
       "      <td>148.574722</td>\n",
       "    </tr>\n",
       "    <tr>\n",
       "      <th>67178</th>\n",
       "      <td>ZL</td>\n",
       "      <td>4178</td>\n",
       "      <td>SYD</td>\n",
       "      <td>3361</td>\n",
       "      <td>GFF</td>\n",
       "      <td>6271</td>\n",
       "      <td>None</td>\n",
       "      <td>0</td>\n",
       "      <td>SF3</td>\n",
       "      <td>-33.946111</td>\n",
       "      <td>151.177222</td>\n",
       "      <td>-34.2508</td>\n",
       "      <td>146.067</td>\n",
       "    </tr>\n",
       "    <tr>\n",
       "      <th>67179</th>\n",
       "      <td>ZL</td>\n",
       "      <td>4178</td>\n",
       "      <td>SYD</td>\n",
       "      <td>3361</td>\n",
       "      <td>LSY</td>\n",
       "      <td>6287</td>\n",
       "      <td>None</td>\n",
       "      <td>0</td>\n",
       "      <td>SF3</td>\n",
       "      <td>-33.946111</td>\n",
       "      <td>151.177222</td>\n",
       "      <td>-28.8303</td>\n",
       "      <td>153.26</td>\n",
       "    </tr>\n",
       "    <tr>\n",
       "      <th>67180</th>\n",
       "      <td>ZL</td>\n",
       "      <td>4178</td>\n",
       "      <td>SYD</td>\n",
       "      <td>3361</td>\n",
       "      <td>MIM</td>\n",
       "      <td>6294</td>\n",
       "      <td>None</td>\n",
       "      <td>0</td>\n",
       "      <td>SF3</td>\n",
       "      <td>-33.946111</td>\n",
       "      <td>151.177222</td>\n",
       "      <td>-36.9086</td>\n",
       "      <td>149.901</td>\n",
       "    </tr>\n",
       "    <tr>\n",
       "      <th>67181</th>\n",
       "      <td>ZL</td>\n",
       "      <td>4178</td>\n",
       "      <td>SYD</td>\n",
       "      <td>3361</td>\n",
       "      <td>MQL</td>\n",
       "      <td>6298</td>\n",
       "      <td>None</td>\n",
       "      <td>0</td>\n",
       "      <td>SF3</td>\n",
       "      <td>-33.946111</td>\n",
       "      <td>151.177222</td>\n",
       "      <td>-34.2292</td>\n",
       "      <td>142.086</td>\n",
       "    </tr>\n",
       "    <tr>\n",
       "      <th>67182</th>\n",
       "      <td>ZL</td>\n",
       "      <td>4178</td>\n",
       "      <td>SYD</td>\n",
       "      <td>3361</td>\n",
       "      <td>MYA</td>\n",
       "      <td>6302</td>\n",
       "      <td>None</td>\n",
       "      <td>0</td>\n",
       "      <td>SF3</td>\n",
       "      <td>-33.946111</td>\n",
       "      <td>151.177222</td>\n",
       "      <td>-35.8978</td>\n",
       "      <td>150.144</td>\n",
       "    </tr>\n",
       "    <tr>\n",
       "      <th>67183</th>\n",
       "      <td>ZL</td>\n",
       "      <td>4178</td>\n",
       "      <td>SYD</td>\n",
       "      <td>3361</td>\n",
       "      <td>NRA</td>\n",
       "      <td>6307</td>\n",
       "      <td>None</td>\n",
       "      <td>0</td>\n",
       "      <td>SF3</td>\n",
       "      <td>-33.946111</td>\n",
       "      <td>151.177222</td>\n",
       "      <td>-34.7022</td>\n",
       "      <td>146.512</td>\n",
       "    </tr>\n",
       "    <tr>\n",
       "      <th>67184</th>\n",
       "      <td>ZL</td>\n",
       "      <td>4178</td>\n",
       "      <td>SYD</td>\n",
       "      <td>3361</td>\n",
       "      <td>NTL</td>\n",
       "      <td>4320</td>\n",
       "      <td>None</td>\n",
       "      <td>0</td>\n",
       "      <td>SF3</td>\n",
       "      <td>-33.946111</td>\n",
       "      <td>151.177222</td>\n",
       "      <td>-32.78</td>\n",
       "      <td>151.83</td>\n",
       "    </tr>\n",
       "    <tr>\n",
       "      <th>67185</th>\n",
       "      <td>ZL</td>\n",
       "      <td>4178</td>\n",
       "      <td>SYD</td>\n",
       "      <td>3361</td>\n",
       "      <td>OAG</td>\n",
       "      <td>6793</td>\n",
       "      <td>None</td>\n",
       "      <td>0</td>\n",
       "      <td>SF3</td>\n",
       "      <td>-33.946111</td>\n",
       "      <td>151.177222</td>\n",
       "      <td>-33.3817</td>\n",
       "      <td>149.133</td>\n",
       "    </tr>\n",
       "    <tr>\n",
       "      <th>67186</th>\n",
       "      <td>ZL</td>\n",
       "      <td>4178</td>\n",
       "      <td>SYD</td>\n",
       "      <td>3361</td>\n",
       "      <td>PKE</td>\n",
       "      <td>6317</td>\n",
       "      <td>None</td>\n",
       "      <td>0</td>\n",
       "      <td>SF3</td>\n",
       "      <td>-33.946111</td>\n",
       "      <td>151.177222</td>\n",
       "      <td>-33.1314</td>\n",
       "      <td>148.239</td>\n",
       "    </tr>\n",
       "    <tr>\n",
       "      <th>67187</th>\n",
       "      <td>ZL</td>\n",
       "      <td>4178</td>\n",
       "      <td>SYD</td>\n",
       "      <td>3361</td>\n",
       "      <td>TRO</td>\n",
       "      <td>6794</td>\n",
       "      <td>None</td>\n",
       "      <td>0</td>\n",
       "      <td>SF3</td>\n",
       "      <td>-33.946111</td>\n",
       "      <td>151.177222</td>\n",
       "      <td>-31.8886</td>\n",
       "      <td>152.514</td>\n",
       "    </tr>\n",
       "    <tr>\n",
       "      <th>67188</th>\n",
       "      <td>ZL</td>\n",
       "      <td>4178</td>\n",
       "      <td>SYD</td>\n",
       "      <td>3361</td>\n",
       "      <td>WGA</td>\n",
       "      <td>3363</td>\n",
       "      <td>None</td>\n",
       "      <td>0</td>\n",
       "      <td>SF3</td>\n",
       "      <td>-33.946111</td>\n",
       "      <td>151.177222</td>\n",
       "      <td>-35.165278</td>\n",
       "      <td>147.466389</td>\n",
       "    </tr>\n",
       "    <tr>\n",
       "      <th>67189</th>\n",
       "      <td>ZL</td>\n",
       "      <td>4178</td>\n",
       "      <td>TRO</td>\n",
       "      <td>6794</td>\n",
       "      <td>GFN</td>\n",
       "      <td>6792</td>\n",
       "      <td>None</td>\n",
       "      <td>0</td>\n",
       "      <td>SF3</td>\n",
       "      <td>-31.8886</td>\n",
       "      <td>152.514</td>\n",
       "      <td>-29.7594</td>\n",
       "      <td>153.03</td>\n",
       "    </tr>\n",
       "    <tr>\n",
       "      <th>67190</th>\n",
       "      <td>ZL</td>\n",
       "      <td>4178</td>\n",
       "      <td>TRO</td>\n",
       "      <td>6794</td>\n",
       "      <td>SYD</td>\n",
       "      <td>3361</td>\n",
       "      <td>None</td>\n",
       "      <td>0</td>\n",
       "      <td>SF3</td>\n",
       "      <td>-31.8886</td>\n",
       "      <td>152.514</td>\n",
       "      <td>-33.946111</td>\n",
       "      <td>151.177222</td>\n",
       "    </tr>\n",
       "    <tr>\n",
       "      <th>67191</th>\n",
       "      <td>ZL</td>\n",
       "      <td>4178</td>\n",
       "      <td>TSV</td>\n",
       "      <td>3330</td>\n",
       "      <td>ISA</td>\n",
       "      <td>3324</td>\n",
       "      <td>None</td>\n",
       "      <td>0</td>\n",
       "      <td>SF3</td>\n",
       "      <td>-19.2525</td>\n",
       "      <td>146.765278</td>\n",
       "      <td>-20.663889</td>\n",
       "      <td>139.488611</td>\n",
       "    </tr>\n",
       "    <tr>\n",
       "      <th>67192</th>\n",
       "      <td>ZL</td>\n",
       "      <td>4178</td>\n",
       "      <td>TSV</td>\n",
       "      <td>3330</td>\n",
       "      <td>WIN</td>\n",
       "      <td>6337</td>\n",
       "      <td>None</td>\n",
       "      <td>0</td>\n",
       "      <td>SF3</td>\n",
       "      <td>-19.2525</td>\n",
       "      <td>146.765278</td>\n",
       "      <td>-22.3636</td>\n",
       "      <td>143.086</td>\n",
       "    </tr>\n",
       "    <tr>\n",
       "      <th>67193</th>\n",
       "      <td>ZL</td>\n",
       "      <td>4178</td>\n",
       "      <td>WGA</td>\n",
       "      <td>3363</td>\n",
       "      <td>MEL</td>\n",
       "      <td>3339</td>\n",
       "      <td>None</td>\n",
       "      <td>0</td>\n",
       "      <td>SF3</td>\n",
       "      <td>-35.165278</td>\n",
       "      <td>147.466389</td>\n",
       "      <td>-37.673333</td>\n",
       "      <td>144.843333</td>\n",
       "    </tr>\n",
       "    <tr>\n",
       "      <th>67194</th>\n",
       "      <td>ZL</td>\n",
       "      <td>4178</td>\n",
       "      <td>WGA</td>\n",
       "      <td>3363</td>\n",
       "      <td>SYD</td>\n",
       "      <td>3361</td>\n",
       "      <td>None</td>\n",
       "      <td>0</td>\n",
       "      <td>SF3</td>\n",
       "      <td>-35.165278</td>\n",
       "      <td>147.466389</td>\n",
       "      <td>-33.946111</td>\n",
       "      <td>151.177222</td>\n",
       "    </tr>\n",
       "    <tr>\n",
       "      <th>67195</th>\n",
       "      <td>ZL</td>\n",
       "      <td>4178</td>\n",
       "      <td>WIN</td>\n",
       "      <td>6337</td>\n",
       "      <td>LRE</td>\n",
       "      <td>6289</td>\n",
       "      <td>None</td>\n",
       "      <td>0</td>\n",
       "      <td>SF3</td>\n",
       "      <td>-22.3636</td>\n",
       "      <td>143.086</td>\n",
       "      <td>-23.4342</td>\n",
       "      <td>144.28</td>\n",
       "    </tr>\n",
       "    <tr>\n",
       "      <th>67196</th>\n",
       "      <td>ZL</td>\n",
       "      <td>4178</td>\n",
       "      <td>WIN</td>\n",
       "      <td>6337</td>\n",
       "      <td>TSV</td>\n",
       "      <td>3330</td>\n",
       "      <td>None</td>\n",
       "      <td>0</td>\n",
       "      <td>SF3</td>\n",
       "      <td>-22.3636</td>\n",
       "      <td>143.086</td>\n",
       "      <td>-19.2525</td>\n",
       "      <td>146.765278</td>\n",
       "    </tr>\n",
       "    <tr>\n",
       "      <th>67197</th>\n",
       "      <td>ZL</td>\n",
       "      <td>4178</td>\n",
       "      <td>WYA</td>\n",
       "      <td>6334</td>\n",
       "      <td>ADL</td>\n",
       "      <td>3341</td>\n",
       "      <td>None</td>\n",
       "      <td>0</td>\n",
       "      <td>SF3</td>\n",
       "      <td>-33.0589</td>\n",
       "      <td>137.514</td>\n",
       "      <td>-34.945</td>\n",
       "      <td>138.530556</td>\n",
       "    </tr>\n",
       "    <tr>\n",
       "      <th>67198</th>\n",
       "      <td>ZM</td>\n",
       "      <td>19016</td>\n",
       "      <td>DME</td>\n",
       "      <td>4029</td>\n",
       "      <td>FRU</td>\n",
       "      <td>2912</td>\n",
       "      <td>None</td>\n",
       "      <td>0</td>\n",
       "      <td>734</td>\n",
       "      <td>55.408611</td>\n",
       "      <td>37.906111</td>\n",
       "      <td>43.061306</td>\n",
       "      <td>74.477556</td>\n",
       "    </tr>\n",
       "    <tr>\n",
       "      <th>67199</th>\n",
       "      <td>ZM</td>\n",
       "      <td>19016</td>\n",
       "      <td>FRU</td>\n",
       "      <td>2912</td>\n",
       "      <td>DME</td>\n",
       "      <td>4029</td>\n",
       "      <td>None</td>\n",
       "      <td>0</td>\n",
       "      <td>734</td>\n",
       "      <td>43.061306</td>\n",
       "      <td>74.477556</td>\n",
       "      <td>55.408611</td>\n",
       "      <td>37.906111</td>\n",
       "    </tr>\n",
       "    <tr>\n",
       "      <th>67200</th>\n",
       "      <td>ZM</td>\n",
       "      <td>19016</td>\n",
       "      <td>FRU</td>\n",
       "      <td>2912</td>\n",
       "      <td>OSS</td>\n",
       "      <td>2913</td>\n",
       "      <td>None</td>\n",
       "      <td>0</td>\n",
       "      <td>734</td>\n",
       "      <td>43.061306</td>\n",
       "      <td>74.477556</td>\n",
       "      <td>40.608989</td>\n",
       "      <td>72.793269</td>\n",
       "    </tr>\n",
       "    <tr>\n",
       "      <th>67201</th>\n",
       "      <td>ZM</td>\n",
       "      <td>19016</td>\n",
       "      <td>OSS</td>\n",
       "      <td>2913</td>\n",
       "      <td>FRU</td>\n",
       "      <td>2912</td>\n",
       "      <td>None</td>\n",
       "      <td>0</td>\n",
       "      <td>734</td>\n",
       "      <td>40.608989</td>\n",
       "      <td>72.793269</td>\n",
       "      <td>43.061306</td>\n",
       "      <td>74.477556</td>\n",
       "    </tr>\n",
       "  </tbody>\n",
       "</table>\n",
       "<p>67202 rows × 13 columns</p>\n",
       "</div>"
      ],
      "text/plain": [
       "      airline airline_id source source_id dest dest_id codeshare stops  \\\n",
       "0          2B        410    AER      2965  KZN    2990      None     0   \n",
       "1          2B        410    ASF      2966  KZN    2990      None     0   \n",
       "2          2B        410    ASF      2966  MRV    2962      None     0   \n",
       "3          2B        410    CEK      2968  KZN    2990      None     0   \n",
       "4          2B        410    CEK      2968  OVB    4078      None     0   \n",
       "5          2B        410    DME      4029  KZN    2990      None     0   \n",
       "6          2B        410    DME      4029  NBC    6969      None     0   \n",
       "7          2B        410    DME      4029  UUA    6160      None     0   \n",
       "8          2B        410    EGO      6156  KGD    2952      None     0   \n",
       "9          2B        410    EGO      6156  KZN    2990      None     0   \n",
       "10         2B        410    GYD      2922  NBC    6969      None     0   \n",
       "11         2B        410    KGD      2952  EGO    6156      None     0   \n",
       "12         2B        410    KZN      2990  AER    2965      None     0   \n",
       "13         2B        410    KZN      2990  ASF    2966      None     0   \n",
       "14         2B        410    KZN      2990  CEK    2968      None     0   \n",
       "15         2B        410    KZN      2990  DME    4029      None     0   \n",
       "16         2B        410    KZN      2990  EGO    6156      None     0   \n",
       "17         2B        410    KZN      2990  LED    2948      None     0   \n",
       "18         2B        410    KZN      2990  SVX    2975      None     0   \n",
       "19         2B        410    LED      2948  KZN    2990      None     0   \n",
       "20         2B        410    LED      2948  NBC    6969      None     0   \n",
       "21         2B        410    LED      2948  UUA    6160      None     0   \n",
       "22         2B        410    MRV      2962  ASF    2966      None     0   \n",
       "23         2B        410    NBC      6969  DME    4029      None     0   \n",
       "24         2B        410    NBC      6969  GYD    2922      None     0   \n",
       "25         2B        410    NBC      6969  LED    2948      None     0   \n",
       "26         2B        410    NBC      6969  SVX    2975      None     0   \n",
       "27         2B        410    NJC      2972  SVX    2975      None     0   \n",
       "28         2B        410    NJC      2972  UUA    6160      None     0   \n",
       "29         2B        410    NUX      4364  SVX    2975      None     0   \n",
       "...       ...        ...    ...       ...  ...     ...       ...   ...   \n",
       "67172      ZL       4178    SYD      3361  ABX    3333      None     0   \n",
       "67173      ZL       4178    SYD      3361  ARM    4062      None     0   \n",
       "67174      ZL       4178    SYD      3361  BHQ    6241      None     0   \n",
       "67175      ZL       4178    SYD      3361  BHS    6249      None     0   \n",
       "67176      ZL       4178    SYD      3361  BNK    4291      None     0   \n",
       "67177      ZL       4178    SYD      3361  DBO    3358      None     0   \n",
       "67178      ZL       4178    SYD      3361  GFF    6271      None     0   \n",
       "67179      ZL       4178    SYD      3361  LSY    6287      None     0   \n",
       "67180      ZL       4178    SYD      3361  MIM    6294      None     0   \n",
       "67181      ZL       4178    SYD      3361  MQL    6298      None     0   \n",
       "67182      ZL       4178    SYD      3361  MYA    6302      None     0   \n",
       "67183      ZL       4178    SYD      3361  NRA    6307      None     0   \n",
       "67184      ZL       4178    SYD      3361  NTL    4320      None     0   \n",
       "67185      ZL       4178    SYD      3361  OAG    6793      None     0   \n",
       "67186      ZL       4178    SYD      3361  PKE    6317      None     0   \n",
       "67187      ZL       4178    SYD      3361  TRO    6794      None     0   \n",
       "67188      ZL       4178    SYD      3361  WGA    3363      None     0   \n",
       "67189      ZL       4178    TRO      6794  GFN    6792      None     0   \n",
       "67190      ZL       4178    TRO      6794  SYD    3361      None     0   \n",
       "67191      ZL       4178    TSV      3330  ISA    3324      None     0   \n",
       "67192      ZL       4178    TSV      3330  WIN    6337      None     0   \n",
       "67193      ZL       4178    WGA      3363  MEL    3339      None     0   \n",
       "67194      ZL       4178    WGA      3363  SYD    3361      None     0   \n",
       "67195      ZL       4178    WIN      6337  LRE    6289      None     0   \n",
       "67196      ZL       4178    WIN      6337  TSV    3330      None     0   \n",
       "67197      ZL       4178    WYA      6334  ADL    3341      None     0   \n",
       "67198      ZM      19016    DME      4029  FRU    2912      None     0   \n",
       "67199      ZM      19016    FRU      2912  DME    4029      None     0   \n",
       "67200      ZM      19016    FRU      2912  OSS    2913      None     0   \n",
       "67201      ZM      19016    OSS      2913  FRU    2912      None     0   \n",
       "\n",
       "      equipment  source_lat  source_lon    dest_lat    dest_lon  \n",
       "0           CR2   43.449928   39.956589   55.606186   49.278728  \n",
       "1           CR2   46.283333   48.006278   55.606186   49.278728  \n",
       "2           CR2   46.283333   48.006278   44.225072   43.081889  \n",
       "3           CR2   55.305836   61.503333   55.606186   49.278728  \n",
       "4           CR2   55.305836   61.503333   55.012622   82.650656  \n",
       "5           CR2   55.408611   37.906111   55.606186   49.278728  \n",
       "6           CR2   55.408611   37.906111       55.34       52.06  \n",
       "7           CR2   55.408611   37.906111       54.64     52.8017  \n",
       "8           CR2     50.6438     36.5901    54.89005   20.592633  \n",
       "9           CR2     50.6438     36.5901   55.606186   49.278728  \n",
       "10          CR2     40.4675   50.046667       55.34       52.06  \n",
       "11          CR2    54.89005   20.592633     50.6438     36.5901  \n",
       "12          CR2   55.606186   49.278728   43.449928   39.956589  \n",
       "13          CR2   55.606186   49.278728   46.283333   48.006278  \n",
       "14          CR2   55.606186   49.278728   55.305836   61.503333  \n",
       "15          CR2   55.606186   49.278728   55.408611   37.906111  \n",
       "16          CR2   55.606186   49.278728     50.6438     36.5901  \n",
       "17          CR2   55.606186   49.278728   59.800292   30.262503  \n",
       "18          CR2   55.606186   49.278728   56.743108   60.802728  \n",
       "19          CR2   59.800292   30.262503   55.606186   49.278728  \n",
       "20          CR2   59.800292   30.262503       55.34       52.06  \n",
       "21          CR2   59.800292   30.262503       54.64     52.8017  \n",
       "22          CR2   44.225072   43.081889   46.283333   48.006278  \n",
       "23          CR2       55.34       52.06   55.408611   37.906111  \n",
       "24          CR2       55.34       52.06     40.4675   50.046667  \n",
       "25          CR2       55.34       52.06   59.800292   30.262503  \n",
       "26          CR2       55.34       52.06   56.743108   60.802728  \n",
       "27          CR2   60.949272   76.483617   56.743108   60.802728  \n",
       "28          CR2   60.949272   76.483617       54.64     52.8017  \n",
       "29          CR2   66.041811   76.313938   56.743108   60.802728  \n",
       "...         ...         ...         ...         ...         ...  \n",
       "67172       SF3  -33.946111  151.177222  -36.067778  146.958056  \n",
       "67173       SF3  -33.946111  151.177222  -30.528056  151.617222  \n",
       "67174       SF3  -33.946111  151.177222    -32.0014     141.472  \n",
       "67175       SF3  -33.946111  151.177222    -33.4094     149.652  \n",
       "67176       SF3  -33.946111  151.177222  -28.833889    153.5625  \n",
       "67177       SF3  -33.946111  151.177222  -32.216667  148.574722  \n",
       "67178       SF3  -33.946111  151.177222    -34.2508     146.067  \n",
       "67179       SF3  -33.946111  151.177222    -28.8303      153.26  \n",
       "67180       SF3  -33.946111  151.177222    -36.9086     149.901  \n",
       "67181       SF3  -33.946111  151.177222    -34.2292     142.086  \n",
       "67182       SF3  -33.946111  151.177222    -35.8978     150.144  \n",
       "67183       SF3  -33.946111  151.177222    -34.7022     146.512  \n",
       "67184       SF3  -33.946111  151.177222      -32.78      151.83  \n",
       "67185       SF3  -33.946111  151.177222    -33.3817     149.133  \n",
       "67186       SF3  -33.946111  151.177222    -33.1314     148.239  \n",
       "67187       SF3  -33.946111  151.177222    -31.8886     152.514  \n",
       "67188       SF3  -33.946111  151.177222  -35.165278  147.466389  \n",
       "67189       SF3    -31.8886     152.514    -29.7594      153.03  \n",
       "67190       SF3    -31.8886     152.514  -33.946111  151.177222  \n",
       "67191       SF3    -19.2525  146.765278  -20.663889  139.488611  \n",
       "67192       SF3    -19.2525  146.765278    -22.3636     143.086  \n",
       "67193       SF3  -35.165278  147.466389  -37.673333  144.843333  \n",
       "67194       SF3  -35.165278  147.466389  -33.946111  151.177222  \n",
       "67195       SF3    -22.3636     143.086    -23.4342      144.28  \n",
       "67196       SF3    -22.3636     143.086    -19.2525  146.765278  \n",
       "67197       SF3    -33.0589     137.514     -34.945  138.530556  \n",
       "67198       734   55.408611   37.906111   43.061306   74.477556  \n",
       "67199       734   43.061306   74.477556   55.408611   37.906111  \n",
       "67200       734   43.061306   74.477556   40.608989   72.793269  \n",
       "67201       734   40.608989   72.793269   43.061306   74.477556  \n",
       "\n",
       "[67202 rows x 13 columns]"
      ]
     },
     "execution_count": 24,
     "metadata": {},
     "output_type": "execute_result"
    }
   ],
   "source": [
    "cursor.execute(\"\"\"\n",
    "    SELECT r.*, a_source.latitude AS source_lat, a_source.longitude AS source_lon, a_dest.latitude AS dest_lat, a_dest.longitude AS dest_lon\n",
    "    FROM routes r\n",
    "    JOIN airports a_source\n",
    "    ON a_source.id = r.source_id\n",
    "    JOIN airports a_dest\n",
    "    ON a_dest.id = r.dest_id;\"\"\")\n",
    "output = pd.DataFrame(cursor.fetchall())\n",
    "output.columns = [x[0] for x in cursor.description]\n",
    "output.drop('index', axis=1,inplace=True)\n",
    "output"
   ]
  },
  {
   "cell_type": "markdown",
   "metadata": {
    "slideshow": {
     "slide_type": "slide"
    }
   },
   "source": [
    "### Grouping statements\n",
    "\n",
    "Combines `select` and `group by` when you want aggregates by values"
   ]
  },
  {
   "cell_type": "markdown",
   "metadata": {
    "slideshow": {
     "slide_type": "fragment"
    }
   },
   "source": [
    "`select` `min(x)` ... `max()`, `sum()`, etc"
   ]
  },
  {
   "cell_type": "markdown",
   "metadata": {
    "slideshow": {
     "slide_type": "fragment"
    }
   },
   "source": [
    "`group by x`"
   ]
  },
  {
   "cell_type": "markdown",
   "metadata": {
    "slideshow": {
     "slide_type": "slide"
    }
   },
   "source": [
    "**Task**<br>\n",
    "- Which countries have the highest amount of active airlines?\n",
    "- Which countries have the highest amount of inactive airlines?\n",
    "- What about airports by timezones?"
   ]
  },
  {
   "cell_type": "code",
   "execution_count": null,
   "metadata": {
    "slideshow": {
     "slide_type": "skip"
    }
   },
   "outputs": [],
   "source": [
    "# Which countries have the highest amount of active airports?\n",
    "cursor.execute(\"\"\"\n",
    "-- your code here;\n",
    "\"\"\")\n",
    "print(*cursor.fetchall(), sep='\\n')"
   ]
  },
  {
   "cell_type": "code",
   "execution_count": null,
   "metadata": {
    "slideshow": {
     "slide_type": "skip"
    }
   },
   "outputs": [],
   "source": [
    "# Which countries have the highest amount of inactive airports?\n",
    "cursor.execute(\"\"\"\n",
    "-- your code here;\n",
    "\"\"\")\n",
    "print(*cursor.fetchall(), sep='\\n')"
   ]
  },
  {
   "cell_type": "code",
   "execution_count": null,
   "metadata": {
    "slideshow": {
     "slide_type": "skip"
    }
   },
   "outputs": [],
   "source": [
    "# What about airports by timezones?\n",
    "cursor.execute(\"\"\"\n",
    "-- your code here;\"\"\")\n",
    "print(*cursor.fetchall(), sep='\\n')"
   ]
  },
  {
   "cell_type": "code",
   "execution_count": null,
   "metadata": {},
   "outputs": [],
   "source": [
    "# It's always a good idea to close our connections when we're done\n",
    "cursor.close()\n",
    "con.close()"
   ]
  },
  {
   "cell_type": "markdown",
   "metadata": {
    "slideshow": {
     "slide_type": "slide"
    }
   },
   "source": [
    "## Goal 5: Using sql within pandas to filter\n",
    "\n",
    "`.query()`\n",
    "\n",
    "[query documentation](https://pandas.pydata.org/pandas-docs/stable/reference/api/pandas.DataFrame.query.html)"
   ]
  },
  {
   "cell_type": "code",
   "execution_count": null,
   "metadata": {
    "slideshow": {
     "slide_type": "slide"
    }
   },
   "outputs": [],
   "source": [
    "# Get data for an example\n",
    "import pandas as pd\n",
    "shelter_data=pd.read_csv('https://data.austintexas.gov/api/views/9t4d-g238/rows.csv?accessType=DOWNLOAD')\n",
    "shelter_data.dtypes"
   ]
  },
  {
   "cell_type": "code",
   "execution_count": null,
   "metadata": {
    "slideshow": {
     "slide_type": "slide"
    }
   },
   "outputs": [],
   "source": [
    "max_data = shelter_data.query('Name == \"Max\"')\n",
    "max_data.head()\n",
    "#vs\n",
    "shelter_data[shelter_data['Name']==\"Max\"]"
   ]
  },
  {
   "cell_type": "code",
   "execution_count": null,
   "metadata": {
    "slideshow": {
     "slide_type": "slide"
    }
   },
   "outputs": [],
   "source": [
    "shelter_data.rename(index=str, columns={\"Animal Type\": \"animal_type\"}, inplace = True)\n",
    "test = shelter_data.query('animal_type == \"Dog\"')\n",
    "test.head()"
   ]
  },
  {
   "cell_type": "markdown",
   "metadata": {
    "slideshow": {
     "slide_type": "slide"
    }
   },
   "source": [
    "## Goal 6: Transfering from sqlite to pandas"
   ]
  },
  {
   "cell_type": "code",
   "execution_count": null,
   "metadata": {
    "slideshow": {
     "slide_type": "fragment"
    }
   },
   "outputs": [],
   "source": [
    "pd_con = sqlite3.connect(\"flights.db\")\n",
    "df = pd.read_sql_query(\"select * from airports limit 5;\", pd_con)\n",
    "df"
   ]
  },
  {
   "cell_type": "markdown",
   "metadata": {
    "slideshow": {
     "slide_type": "slide"
    }
   },
   "source": [
    "**Task**: \n",
    "Convert one of the earlier queries in the lesson to a pandas data frame"
   ]
  },
  {
   "cell_type": "code",
   "execution_count": null,
   "metadata": {},
   "outputs": [],
   "source": [
    "# Which countries have the highest amount of active airports?\n",
    "df = pd.read_sql_query(\"\"\"\n",
    "-- your code here;\n",
    "\"\"\", pd_con)\n",
    "df"
   ]
  },
  {
   "cell_type": "code",
   "execution_count": null,
   "metadata": {},
   "outputs": [],
   "source": [
    "pd_con.close()"
   ]
  },
  {
   "cell_type": "markdown",
   "metadata": {
    "slideshow": {
     "slide_type": "slide"
    }
   },
   "source": [
    "## Integration\n",
    "\n",
    "The [Chinook database](https://github.com/lerocha/chinook-database) is a sample database, representing a digital media store.\n",
    "\n",
    "You need to create a query that can rank tracks in term of popularity.\n",
    "\n",
    "The name of the database is `Chinook_Sqlite.sqlite`"
   ]
  },
  {
   "cell_type": "markdown",
   "metadata": {
    "slideshow": {
     "slide_type": "slide"
    }
   },
   "source": [
    "Database information:<br>\n",
    "- How many tables are in the database?\n",
    "- What's the primary key of each table?\n",
    "- What foreign keys join the tables together?\n",
    "- If you had to draw a schema of how the tables are connected, what would it look like?"
   ]
  },
  {
   "cell_type": "markdown",
   "metadata": {
    "slideshow": {
     "slide_type": "slide"
    }
   },
   "source": [
    "To answer the question:<br>\n",
    "- What are the max and min dates in the Invoice table?\n",
    "- What tables would you need to answer \"what is your most popular track?\"\n",
    "- What values from each table?"
   ]
  },
  {
   "cell_type": "code",
   "execution_count": null,
   "metadata": {
    "slideshow": {
     "slide_type": "skip"
    }
   },
   "outputs": [],
   "source": [
    "conn = sqlite3.connect('Chinook_Sqlite.sqlite')\n",
    "cur = conn.cursor()"
   ]
  },
  {
   "cell_type": "code",
   "execution_count": null,
   "metadata": {},
   "outputs": [],
   "source": [
    "# How many tables are in the database?\n",
    "\n",
    "# your code here"
   ]
  },
  {
   "cell_type": "code",
   "execution_count": null,
   "metadata": {},
   "outputs": [],
   "source": [
    "# What's the primary key of each table?\n",
    "\n",
    "# your code here"
   ]
  },
  {
   "cell_type": "code",
   "execution_count": null,
   "metadata": {},
   "outputs": [],
   "source": [
    "# What foreign keys join the tables together?\n",
    "\n",
    "# your code here\n",
    "# hint: use \"PRAGMA foreign_key_list()\"\n"
   ]
  },
  {
   "cell_type": "code",
   "execution_count": null,
   "metadata": {},
   "outputs": [],
   "source": [
    "# What are the max and min dates in the Invoice table?\n",
    "cur.execute(\"\"\"\n",
    "-- your code here;\n",
    "\"\"\").fetchall()"
   ]
  },
  {
   "cell_type": "code",
   "execution_count": null,
   "metadata": {},
   "outputs": [],
   "source": [
    "# What tables would you need to answer \"what is your most popular track?\"\n"
   ]
  },
  {
   "cell_type": "code",
   "execution_count": null,
   "metadata": {},
   "outputs": [],
   "source": [
    "# What values from each table?\n"
   ]
  },
  {
   "cell_type": "code",
   "execution_count": null,
   "metadata": {},
   "outputs": [],
   "source": [
    "# Put it all together:\n",
    "# You need to create a query that can rank tracks in term of popularity.\n",
    "\n",
    "results = cur.execute(\"\"\"\n",
    "-- your code here;\n",
    "\"\"\").fetchall()\n",
    "\n",
    "print(*results, sep='\\n')"
   ]
  },
  {
   "cell_type": "code",
   "execution_count": null,
   "metadata": {},
   "outputs": [],
   "source": [
    "# Advanced: get the artist who sang the song!\n",
    "results = cur.execute(\"\"\"\n",
    "-- your code here;\n",
    "\"\"\").fetchall()\n",
    "\n",
    "print(*results, sep='\\n')"
   ]
  },
  {
   "cell_type": "markdown",
   "metadata": {
    "slideshow": {
     "slide_type": "slide"
    }
   },
   "source": [
    "## Reflection\n",
    "\n",
    "## Learning goals review:\n",
    "- Goal 1: Summarize the use case for sql in the data science skill set\n",
    "- Goal 2: Define key sql terminology\n",
    "- Goal 3: Get information about DB schema and table structure\n",
    "- Goal 4: Use basic SQL commands:\n",
    "    - Construct SQL queries\n",
    "    - Use JOIN to merge tables along logical columns\n",
    "    - Grouping Data with SQL\n",
    "- Goal 5: Query data from pandas dataframes using SQL\n",
    "- Goal 6: Convert SQL to pandas\n",
    "\n",
    "Please fill out today's [Exit Ticket](https://docs.google.com/forms/d/1O0dMGqjIV6-JIDYSIeGqTjIdep1BFiIVCc29UbEgwUM/edit)!"
   ]
  },
  {
   "cell_type": "code",
   "execution_count": null,
   "metadata": {},
   "outputs": [],
   "source": []
  }
 ],
 "metadata": {
  "kernelspec": {
   "display_name": "Python 3",
   "language": "python",
   "name": "python3"
  },
  "language_info": {
   "codemirror_mode": {
    "name": "ipython",
    "version": 3
   },
   "file_extension": ".py",
   "mimetype": "text/x-python",
   "name": "python",
   "nbconvert_exporter": "python",
   "pygments_lexer": "ipython3",
   "version": "3.7.3"
  }
 },
 "nbformat": 4,
 "nbformat_minor": 4
}
